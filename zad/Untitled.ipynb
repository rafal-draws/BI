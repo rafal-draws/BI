{
 "cells": [
  {
   "cell_type": "code",
   "execution_count": 27,
   "id": "81e6fcf4",
   "metadata": {},
   "outputs": [],
   "source": [
    "import pandas as pd"
   ]
  },
  {
   "cell_type": "code",
   "execution_count": 28,
   "id": "5b1cf1c5",
   "metadata": {},
   "outputs": [],
   "source": [
    "import numpy as np"
   ]
  },
  {
   "cell_type": "code",
   "execution_count": 40,
   "id": "aacfa67f",
   "metadata": {},
   "outputs": [],
   "source": [
    "df = pd.read_excel('Test.xlsx')\n",
    "df2 = pd.read_excel('Test.xlsx', sheet_name=\"Wykonania\")"
   ]
  },
  {
   "cell_type": "code",
   "execution_count": 48,
   "id": "7b25c430",
   "metadata": {},
   "outputs": [],
   "source": [
    "df = df.rename(columns ={'Produkt':'KOD_POLPRODUKTU'})"
   ]
  },
  {
   "cell_type": "code",
   "execution_count": 52,
   "id": "a13f0795",
   "metadata": {},
   "outputs": [
    {
     "data": {
      "text/plain": [
       "KOD_POLPRODUKTU              object\n",
       "TYP_STANU                    object\n",
       "ILOSC                         int64\n",
       "DATA_WPROWADZENIA    datetime64[ns]\n",
       "OSOBY                         int64\n",
       "dtype: object"
      ]
     },
     "execution_count": 52,
     "metadata": {},
     "output_type": "execute_result"
    }
   ],
   "source": [
    "df2.dtypes"
   ]
  },
  {
   "cell_type": "code",
   "execution_count": 53,
   "id": "6e39d604",
   "metadata": {},
   "outputs": [
    {
     "data": {
      "text/plain": [
       "KOD_POLPRODUKTU               object\n",
       "Produkt_jm                    object\n",
       "Typ_operacji                  object\n",
       "Czas_s/szt                     int64\n",
       "Szt/h                          int64\n",
       "Czas_przygotowawczy w sek.     int64\n",
       "dtype: object"
      ]
     },
     "execution_count": 53,
     "metadata": {},
     "output_type": "execute_result"
    }
   ],
   "source": [
    "df.dtypes"
   ]
  },
  {
   "cell_type": "code",
   "execution_count": 70,
   "id": "a4067ae8",
   "metadata": {},
   "outputs": [
    {
     "data": {
      "text/plain": [
       "KOD_POLPRODUKTU                       object\n",
       "TYP_STANU                             object\n",
       "ILOSC                                float64\n",
       "DATA_WPROWADZENIA             datetime64[ns]\n",
       "OSOBY                                float64\n",
       "Produkt_jm                            object\n",
       "Typ_operacji                          object\n",
       "Czas_s/szt                           float64\n",
       "Szt/h                                float64\n",
       "Czas_przygotowawczy w sek.           float64\n",
       "dtype: object"
      ]
     },
     "execution_count": 70,
     "metadata": {},
     "output_type": "execute_result"
    }
   ],
   "source": [
    "df3 = pd.merge(df2, df, on='KOD_POLPRODUKTU',how='outer')\n",
    "df3['DATA_WPROWADZENIA'] = df3['DATA_WPROWADZENIA'].dt.to_pydatetime()\n",
    "df3.dtypes"
   ]
  },
  {
   "cell_type": "code",
   "execution_count": 63,
   "id": "0e5a8afe",
   "metadata": {},
   "outputs": [
    {
     "ename": "TypeError",
     "evalue": "Index must be DatetimeIndex",
     "output_type": "error",
     "traceback": [
      "\u001b[1;31m---------------------------------------------------------------------------\u001b[0m",
      "\u001b[1;31mTypeError\u001b[0m                                 Traceback (most recent call last)",
      "Cell \u001b[1;32mIn [63], line 2\u001b[0m\n\u001b[0;32m      1\u001b[0m df3\u001b[38;5;241m.\u001b[39mset_index(\u001b[38;5;124m'\u001b[39m\u001b[38;5;124mDATA_WPROWADZENIA\u001b[39m\u001b[38;5;124m'\u001b[39m)\n\u001b[1;32m----> 2\u001b[0m df3\u001b[38;5;241m.\u001b[39mbetween_time(\u001b[38;5;124m'\u001b[39m\u001b[38;5;124m6:00\u001b[39m\u001b[38;5;124m'\u001b[39m, \u001b[38;5;124m'\u001b[39m\u001b[38;5;124m14:00\u001b[39m\u001b[38;5;124m'\u001b[39m)\n",
      "File \u001b[1;32m~\\AppData\\Local\\Programs\\Python\\Python310\\lib\\site-packages\\pandas\\core\\generic.py:7852\u001b[0m, in \u001b[0;36mNDFrame.between_time\u001b[1;34m(self, start_time, end_time, include_start, include_end, inclusive, axis)\u001b[0m\n\u001b[0;32m   7850\u001b[0m index \u001b[38;5;241m=\u001b[39m \u001b[38;5;28mself\u001b[39m\u001b[38;5;241m.\u001b[39m_get_axis(axis)\n\u001b[0;32m   7851\u001b[0m \u001b[38;5;28;01mif\u001b[39;00m \u001b[38;5;129;01mnot\u001b[39;00m \u001b[38;5;28misinstance\u001b[39m(index, DatetimeIndex):\n\u001b[1;32m-> 7852\u001b[0m     \u001b[38;5;28;01mraise\u001b[39;00m \u001b[38;5;167;01mTypeError\u001b[39;00m(\u001b[38;5;124m\"\u001b[39m\u001b[38;5;124mIndex must be DatetimeIndex\u001b[39m\u001b[38;5;124m\"\u001b[39m)\n\u001b[0;32m   7854\u001b[0m old_include_arg_used \u001b[38;5;241m=\u001b[39m (include_start \u001b[38;5;241m!=\u001b[39m lib\u001b[38;5;241m.\u001b[39mno_default) \u001b[38;5;129;01mor\u001b[39;00m (\n\u001b[0;32m   7855\u001b[0m     include_end \u001b[38;5;241m!=\u001b[39m lib\u001b[38;5;241m.\u001b[39mno_default\n\u001b[0;32m   7856\u001b[0m )\n\u001b[0;32m   7858\u001b[0m \u001b[38;5;28;01mif\u001b[39;00m old_include_arg_used \u001b[38;5;129;01mand\u001b[39;00m inclusive \u001b[38;5;129;01mis\u001b[39;00m \u001b[38;5;129;01mnot\u001b[39;00m \u001b[38;5;28;01mNone\u001b[39;00m:\n",
      "\u001b[1;31mTypeError\u001b[0m: Index must be DatetimeIndex"
     ]
    }
   ],
   "source": [
    "df3.set_index('DATA_WPROWADZENIA')\n",
    "df3.between_time('6:00', '14:00')"
   ]
  },
  {
   "cell_type": "code",
   "execution_count": 64,
   "id": "2583a2be",
   "metadata": {},
   "outputs": [
    {
     "data": {
      "text/plain": [
       "KOD_POLPRODUKTU                       object\n",
       "TYP_STANU                             object\n",
       "ILOSC                                float64\n",
       "DATA_WPROWADZENIA             datetime64[ns]\n",
       "OSOBY                                float64\n",
       "Produkt_jm                            object\n",
       "Typ_operacji                          object\n",
       "Czas_s/szt                           float64\n",
       "Szt/h                                float64\n",
       "Czas_przygotowawczy w sek.           float64\n",
       "dtype: object"
      ]
     },
     "execution_count": 64,
     "metadata": {},
     "output_type": "execute_result"
    }
   ],
   "source": [
    "df3.dtypes"
   ]
  },
  {
   "cell_type": "code",
   "execution_count": null,
   "id": "ac270cc6",
   "metadata": {},
   "outputs": [],
   "source": []
  }
 ],
 "metadata": {
  "kernelspec": {
   "display_name": "Python 3 (ipykernel)",
   "language": "python",
   "name": "python3"
  },
  "language_info": {
   "codemirror_mode": {
    "name": "ipython",
    "version": 3
   },
   "file_extension": ".py",
   "mimetype": "text/x-python",
   "name": "python",
   "nbconvert_exporter": "python",
   "pygments_lexer": "ipython3",
   "version": "3.10.5"
  }
 },
 "nbformat": 4,
 "nbformat_minor": 5
}
